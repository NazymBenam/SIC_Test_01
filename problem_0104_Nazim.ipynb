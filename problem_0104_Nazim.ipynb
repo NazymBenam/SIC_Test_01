{
  "nbformat": 4,
  "nbformat_minor": 0,
  "metadata": {
    "kernelspec": {
      "display_name": "Python 3",
      "language": "python",
      "name": "python3"
    },
    "language_info": {
      "codemirror_mode": {
        "name": "ipython",
        "version": 3
      },
      "file_extension": ".py",
      "mimetype": "text/x-python",
      "name": "python",
      "nbconvert_exporter": "python",
      "pygments_lexer": "ipython3",
      "version": "3.7.3"
    },
    "colab": {
      "name": "problem_0104_Nazim.ipynb",
      "provenance": [],
      "collapsed_sections": []
    }
  },
  "cells": [
    {
      "cell_type": "markdown",
      "metadata": {
        "id": "_wl5F8wM092w"
      },
      "source": [
        "## Quiz #0104 "
      ]
    },
    {
      "cell_type": "markdown",
      "metadata": {
        "id": "RWoXm3W4092y"
      },
      "source": [
        "#### Code the class 'Aquarium' that outputs the result as shown. "
      ]
    },
    {
      "cell_type": "code",
      "metadata": {
        "id": "ecbNgrrn092z"
      },
      "source": [
        "class Aquarium :\n",
        "  def __init__(self) :\n",
        "    self.animals= []\n",
        "    print(\"an aquarium has opened !\")\n",
        "  \n",
        "  def enters(self, animal):\n",
        "    if animal not in self.animals :\n",
        "      print(animal, \"is a new member of our Aquarium !\")\n",
        "      self.animals.append(animal)\n",
        "    else :\n",
        "      print (\"we already have\", animal)\n",
        "\n",
        "    \n",
        "  def show_all(self) :\n",
        "    print(self.animals)\n",
        "  \n",
        "  def leaves(self, animal) :\n",
        "    if animal in self.animals :\n",
        "      self.animals.remove(animal)\n",
        "    else :\n",
        "      print(\"no such creature in the aquarium !\")"
      ],
      "execution_count": 14,
      "outputs": []
    },
    {
      "cell_type": "markdown",
      "metadata": {
        "id": "G3Gspc610920"
      },
      "source": [
        "Test results:"
      ]
    },
    {
      "cell_type": "code",
      "metadata": {
        "id": "u9L4SHKD0920",
        "colab": {
          "base_uri": "https://localhost:8080/"
        },
        "outputId": "974a8bc8-25cc-476b-99ae-e537517d254b"
      },
      "source": [
        "my_aquarium = Aquarium()\n"
      ],
      "execution_count": 15,
      "outputs": [
        {
          "output_type": "stream",
          "name": "stdout",
          "text": [
            "an aquarium has opened !\n"
          ]
        }
      ]
    },
    {
      "cell_type": "code",
      "metadata": {
        "id": "jIQUfK9A0921",
        "colab": {
          "base_uri": "https://localhost:8080/"
        },
        "outputId": "4fe49546-65ce-4d7e-989f-595647a3e08b"
      },
      "source": [
        "my_aquarium.enters('Turtle')"
      ],
      "execution_count": 16,
      "outputs": [
        {
          "output_type": "stream",
          "name": "stdout",
          "text": [
            "Turtle is a new member of our Aquarium !\n"
          ]
        }
      ]
    },
    {
      "cell_type": "code",
      "metadata": {
        "id": "0DERXNVy0921",
        "colab": {
          "base_uri": "https://localhost:8080/"
        },
        "outputId": "5fdb23ed-16cf-4590-bef8-a4708019fef4"
      },
      "source": [
        "my_aquarium.enters('Turtle')"
      ],
      "execution_count": 17,
      "outputs": [
        {
          "output_type": "stream",
          "name": "stdout",
          "text": [
            "we already have Turtle\n"
          ]
        }
      ]
    },
    {
      "cell_type": "code",
      "metadata": {
        "id": "mqYBG7K70922",
        "colab": {
          "base_uri": "https://localhost:8080/"
        },
        "outputId": "884fef00-f0ef-4676-a10e-df6204112b36"
      },
      "source": [
        "my_aquarium.enters('Dolphin')"
      ],
      "execution_count": 18,
      "outputs": [
        {
          "output_type": "stream",
          "name": "stdout",
          "text": [
            "Dolphin is a new member of our Aquarium !\n"
          ]
        }
      ]
    },
    {
      "cell_type": "code",
      "metadata": {
        "id": "y3Z_COQv0922",
        "colab": {
          "base_uri": "https://localhost:8080/"
        },
        "outputId": "a6de37f9-f100-4652-92fe-1d5dca17e0eb"
      },
      "source": [
        "my_aquarium.enters('Sea Lion')"
      ],
      "execution_count": 19,
      "outputs": [
        {
          "output_type": "stream",
          "name": "stdout",
          "text": [
            "Sea Lion is a new member of our Aquarium !\n"
          ]
        }
      ]
    },
    {
      "cell_type": "code",
      "metadata": {
        "id": "NTuF9USm0923",
        "colab": {
          "base_uri": "https://localhost:8080/"
        },
        "outputId": "c69f8270-361d-46a2-ea1e-23dea9102690"
      },
      "source": [
        "my_aquarium.enters('Shark')"
      ],
      "execution_count": 20,
      "outputs": [
        {
          "output_type": "stream",
          "name": "stdout",
          "text": [
            "Shark is a new member of our Aquarium !\n"
          ]
        }
      ]
    },
    {
      "cell_type": "code",
      "metadata": {
        "id": "BZwzVTNh0923",
        "colab": {
          "base_uri": "https://localhost:8080/"
        },
        "outputId": "4ae79329-add7-4d73-eff4-974316a1c931"
      },
      "source": [
        "my_aquarium.show_all()"
      ],
      "execution_count": 21,
      "outputs": [
        {
          "output_type": "stream",
          "name": "stdout",
          "text": [
            "['Turtle', 'Dolphin', 'Sea Lion', 'Shark']\n"
          ]
        }
      ]
    },
    {
      "cell_type": "code",
      "metadata": {
        "id": "qe5L_0OP0924"
      },
      "source": [
        "my_aquarium.leaves(\"Sea Lion\")"
      ],
      "execution_count": 22,
      "outputs": []
    },
    {
      "cell_type": "code",
      "metadata": {
        "id": "2_yrWxOP0924",
        "colab": {
          "base_uri": "https://localhost:8080/"
        },
        "outputId": "faa80a4c-1d6c-4837-d8a1-fb68e6dc6ab8"
      },
      "source": [
        "my_aquarium.leaves(\"Killer Whale\")"
      ],
      "execution_count": 23,
      "outputs": [
        {
          "output_type": "stream",
          "name": "stdout",
          "text": [
            "no such creature in the aquarium !\n"
          ]
        }
      ]
    },
    {
      "cell_type": "code",
      "metadata": {
        "id": "iPCWSbgu0924",
        "colab": {
          "base_uri": "https://localhost:8080/"
        },
        "outputId": "3c7d0fac-e048-49e2-a28e-8e43495972cd"
      },
      "source": [
        "my_aquarium.show_all()"
      ],
      "execution_count": 24,
      "outputs": [
        {
          "output_type": "stream",
          "name": "stdout",
          "text": [
            "['Turtle', 'Dolphin', 'Shark']\n"
          ]
        }
      ]
    },
    {
      "cell_type": "code",
      "metadata": {
        "id": "K3rOcjxZ0925"
      },
      "source": [
        "my_aquarium.leaves(\"Turtle\")"
      ],
      "execution_count": 25,
      "outputs": []
    },
    {
      "cell_type": "code",
      "metadata": {
        "id": "VNrUUbRI0925",
        "colab": {
          "base_uri": "https://localhost:8080/"
        },
        "outputId": "5b115256-7422-49ac-b346-68391dffe09e"
      },
      "source": [
        "my_aquarium.show_all()"
      ],
      "execution_count": 26,
      "outputs": [
        {
          "output_type": "stream",
          "name": "stdout",
          "text": [
            "['Dolphin', 'Shark']\n"
          ]
        }
      ]
    }
  ]
}