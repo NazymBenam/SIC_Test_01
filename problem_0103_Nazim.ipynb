{
  "nbformat": 4,
  "nbformat_minor": 0,
  "metadata": {
    "kernelspec": {
      "display_name": "Python 3",
      "language": "python",
      "name": "python3"
    },
    "language_info": {
      "codemirror_mode": {
        "name": "ipython",
        "version": 3
      },
      "file_extension": ".py",
      "mimetype": "text/x-python",
      "name": "python",
      "nbconvert_exporter": "python",
      "pygments_lexer": "ipython3",
      "version": "3.7.3"
    },
    "colab": {
      "name": "problem_0103_Nazim.ipynb",
      "provenance": [],
      "collapsed_sections": []
    }
  },
  "cells": [
    {
      "cell_type": "markdown",
      "metadata": {
        "id": "fw9rOBxCyD7N"
      },
      "source": [
        "## Quiz #0103 "
      ]
    },
    {
      "cell_type": "markdown",
      "metadata": {
        "id": "69p__CUByD7P"
      },
      "source": [
        "#### Code the class named 'Calculator' that outputs the result as shown. \n",
        "\n",
        "*   Élément de liste\n",
        "\n",
        "1.   Élément de liste\n",
        "2.   Élément de liste\n",
        "\n",
        "\n",
        "*   Élément de liste\n",
        "\n"
      ]
    },
    {
      "cell_type": "code",
      "metadata": {
        "id": "1Stqh7V1yD7P"
      },
      "source": [
        "class Calculator:\n",
        "  \n",
        "  def __init__(self,num1,num2) :\n",
        "    self.num1 = num1\n",
        "    self.num2 = num2\n",
        "  \n",
        "  def sum(self):\n",
        "        return self.num1+self.num2\n",
        "  def product(self):\n",
        "        return self.num1*self.num2\n",
        "  def divide(self):\n",
        "        return self.num1/self.num2\n",
        "  def subtract(self):\n",
        "       return self.num1-self.num2 "
      ],
      "execution_count": null,
      "outputs": []
    },
    {
      "cell_type": "markdown",
      "metadata": {
        "id": "5VkndqtCyD7Q"
      },
      "source": [
        "Test results:"
      ]
    },
    {
      "cell_type": "code",
      "metadata": {
        "id": "tD8GNXuvyD7Q"
      },
      "source": [
        "calc1 = Calculator(5,3)\n",
        "calc2 = Calculator(10,2)"
      ],
      "execution_count": null,
      "outputs": []
    },
    {
      "cell_type": "code",
      "metadata": {
        "colab": {
          "base_uri": "https://localhost:8080/"
        },
        "id": "AIkgF5lAyD7Q",
        "outputId": "4dd81253-d57f-4ad8-e64d-e42b2b4fc7b7"
      },
      "source": [
        "print(calc1.sum())\n",
        "print(calc1.subtract())\n",
        "print(calc1.product())\n",
        "print(calc1.divide())"
      ],
      "execution_count": null,
      "outputs": [
        {
          "output_type": "stream",
          "text": [
            "8\n",
            "2\n",
            "15\n",
            "1.6666666666666667\n"
          ],
          "name": "stdout"
        }
      ]
    },
    {
      "cell_type": "code",
      "metadata": {
        "colab": {
          "base_uri": "https://localhost:8080/"
        },
        "id": "y4APUkusyD7R",
        "outputId": "cbd47fd8-fce1-469c-f3de-a358cadba12e"
      },
      "source": [
        "print(calc2.sum())\n",
        "print(calc2.subtract())\n",
        "print(calc2.product())\n",
        "print(calc2.divide())"
      ],
      "execution_count": null,
      "outputs": [
        {
          "output_type": "stream",
          "text": [
            "12\n",
            "8\n",
            "20\n",
            "5.0\n"
          ],
          "name": "stdout"
        }
      ]
    }
  ]
}