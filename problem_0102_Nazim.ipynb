{
  "nbformat": 4,
  "nbformat_minor": 0,
  "metadata": {
    "kernelspec": {
      "display_name": "Python 3",
      "language": "python",
      "name": "python3"
    },
    "language_info": {
      "codemirror_mode": {
        "name": "ipython",
        "version": 3
      },
      "file_extension": ".py",
      "mimetype": "text/x-python",
      "name": "python",
      "nbconvert_exporter": "python",
      "pygments_lexer": "ipython3",
      "version": "3.7.3"
    },
    "colab": {
      "name": "problem_0102_Nazim.ipynb",
      "provenance": [],
      "collapsed_sections": []
    }
  },
  "cells": [
    {
      "cell_type": "markdown",
      "metadata": {
        "id": "3jL4MQDEugbu"
      },
      "source": [
        "## Quiz #0102 "
      ]
    },
    {
      "cell_type": "markdown",
      "metadata": {
        "id": "g2ne70RLugbw"
      },
      "source": [
        "#### Use a lambda function and map() to answer the following questions."
      ]
    },
    {
      "cell_type": "markdown",
      "metadata": {
        "id": "eKNxn4R4ugbw"
      },
      "source": [
        "1). Add 1 to each element of the list 'a' and create another list. <br>\n",
        "\n",
        "a = [1, 2, 3, 4, 5, 6, 7, 8, 9, 10]"
      ]
    },
    {
      "cell_type": "code",
      "metadata": {
        "colab": {
          "base_uri": "https://localhost:8080/"
        },
        "id": "zcr7qQSWugbx",
        "outputId": "6426319c-0d50-46fb-a1e4-6f3e192444d1"
      },
      "source": [
        "a = [1, 2, 3, 4, 5, 6, 7, 8, 9, 10]\n",
        "a1 = list(map(lambda x:x+1, a))\n",
        "print(a1)"
      ],
      "execution_count": null,
      "outputs": [
        {
          "output_type": "stream",
          "text": [
            "[2, 3, 4, 5, 6, 7, 8, 9, 10, 11]\n"
          ],
          "name": "stdout"
        }
      ]
    },
    {
      "cell_type": "markdown",
      "metadata": {
        "id": "td8RLaFgugbx"
      },
      "source": [
        "2). Multiply element-wise the lists 'a' and 'b'. Show the result as another list.\n",
        "\n",
        "\n",
        "\n",
        "\n",
        "a = [2, 4, 6, 8, 10]\n",
        "\n",
        "b = [10, 8, 6, 4, 2]"
      ]
    },
    {
      "cell_type": "code",
      "metadata": {
        "colab": {
          "base_uri": "https://localhost:8080/"
        },
        "id": "N4oR35p7ugby",
        "outputId": "4575e9b0-5278-49a4-ad6c-01a5e433c6bc"
      },
      "source": [
        "a = [2, 4, 6, 8, 10]\n",
        "b = [10, 8, 6, 4, 2]\n",
        "\n",
        "list(map(lambda m,n:n*m, a,b))"
      ],
      "execution_count": null,
      "outputs": [
        {
          "output_type": "execute_result",
          "data": {
            "text/plain": [
              "[20, 32, 36, 32, 20]"
            ]
          },
          "metadata": {
            "tags": []
          },
          "execution_count": 27
        }
      ]
    },
    {
      "cell_type": "code",
      "metadata": {
        "id": "qJLc_Bw3ugby"
      },
      "source": [
        ""
      ],
      "execution_count": null,
      "outputs": []
    },
    {
      "cell_type": "code",
      "metadata": {
        "id": "yIZMzOn4ugby"
      },
      "source": [
        ""
      ],
      "execution_count": null,
      "outputs": []
    },
    {
      "cell_type": "markdown",
      "metadata": {
        "id": "UR1n0Zz-ugbz"
      },
      "source": [
        "#### Use a lambda function and filter() to answer the following questions."
      ]
    },
    {
      "cell_type": "markdown",
      "metadata": {
        "id": "CxSN1ZmEugbz"
      },
      "source": [
        "3). Find the multiples of 5 in the range 1~100. Show the result as a list.\n",
        "\n",
        "1.   Élément de liste\n",
        "2.   Élément de liste\n",
        "\n"
      ]
    },
    {
      "cell_type": "code",
      "metadata": {
        "colab": {
          "base_uri": "https://localhost:8080/"
        },
        "id": "XGq4XfSXugbz",
        "outputId": "05ce8abf-1317-4783-bfb4-0583c8bd1859"
      },
      "source": [
        "cc = list(filter(lambda x : x%5==0, range(1,101)))\n",
        "print(cc)"
      ],
      "execution_count": null,
      "outputs": [
        {
          "output_type": "stream",
          "text": [
            "[5, 10, 15, 20, 25, 30, 35, 40, 45, 50, 55, 60, 65, 70, 75, 80, 85, 90, 95, 100]\n"
          ],
          "name": "stdout"
        }
      ]
    },
    {
      "cell_type": "code",
      "metadata": {
        "id": "nBHXYh75ugb0"
      },
      "source": [
        ""
      ],
      "execution_count": null,
      "outputs": []
    },
    {
      "cell_type": "markdown",
      "metadata": {
        "id": "-pSze9vOugb0"
      },
      "source": [
        "4). In the following list, find the values larger than 160. Show the result as a list.\n",
        "\n",
        "a = [145.2, 160.3, 155.2, 171.6, 165.34, 167.2, 161.1, 164.9]"
      ]
    },
    {
      "cell_type": "code",
      "metadata": {
        "colab": {
          "base_uri": "https://localhost:8080/"
        },
        "id": "CSbRHAr3ugb0",
        "outputId": "b4d3c99f-9299-40be-fe7c-443a9537a8f5"
      },
      "source": [
        "a = [145.2, 160.3, 155.2, 171.6, 165.34, 167.2, 161.1, 164.9]\n",
        "\n",
        "list(filter(lambda v: v>160, a))"
      ],
      "execution_count": null,
      "outputs": [
        {
          "output_type": "execute_result",
          "data": {
            "text/plain": [
              "[160.3, 171.6, 165.34, 167.2, 161.1, 164.9]"
            ]
          },
          "metadata": {
            "tags": []
          },
          "execution_count": 13
        }
      ]
    },
    {
      "cell_type": "code",
      "metadata": {
        "id": "K9zbyTZVugb0"
      },
      "source": [
        ""
      ],
      "execution_count": null,
      "outputs": []
    },
    {
      "cell_type": "markdown",
      "metadata": {
        "id": "ZiGT2Bytugb0"
      },
      "source": [
        "5). In the following list, find the values larger than 160 and smaller than 165. Show the result as a list.\n",
        "\n",
        "a = [145.2, 160.3, 155.2, 171.6, 165.34, 167.2, 161.1, 164.9]"
      ]
    },
    {
      "cell_type": "code",
      "metadata": {
        "id": "-W-_ZfSJugb1"
      },
      "source": [
        "aa = [145.2, 160.3, 155.2, 171.6, 165.34, 167.2, 161.1, 164.9]\n",
        "list(filter(lambda c: c>160 and c<165, aa))"
      ],
      "execution_count": null,
      "outputs": []
    },
    {
      "cell_type": "code",
      "metadata": {
        "colab": {
          "base_uri": "https://localhost:8080/"
        },
        "id": "YVZFsIZqugb1",
        "outputId": "86bb6d71-600e-48d9-f669-bbe49fb698ee"
      },
      "source": [
        ""
      ],
      "execution_count": null,
      "outputs": [
        {
          "output_type": "execute_result",
          "data": {
            "text/plain": [
              "[160.3, 161.1, 164.9]"
            ]
          },
          "metadata": {
            "tags": []
          },
          "execution_count": 14
        }
      ]
    },
    {
      "cell_type": "markdown",
      "metadata": {
        "id": "0U5MY7cougb1"
      },
      "source": [
        "6). In the following list of names, extract only those stargin with 'J'. Show the result as a list.\n",
        "\n",
        "a = ['Sara', 'Jack', 'Rebecca', 'Jennifer', 'Paul', 'Andrew', 'John']"
      ]
    },
    {
      "cell_type": "code",
      "metadata": {
        "id": "Tvv0h21Qugb1"
      },
      "source": [
        "aaa = ['Sara', 'Jack', 'Rebecca', 'Jennifer', 'Paul', 'Andrew', 'John']\n",
        "list(filter(lambda x: x[0]=='J', aaa))"
      ],
      "execution_count": null,
      "outputs": []
    },
    {
      "cell_type": "code",
      "metadata": {
        "colab": {
          "base_uri": "https://localhost:8080/"
        },
        "id": "sdhuCEZiugb2",
        "outputId": "4ec8accd-c410-4cc0-c7d6-3c2ae7586232"
      },
      "source": [
        ""
      ],
      "execution_count": null,
      "outputs": [
        {
          "output_type": "execute_result",
          "data": {
            "text/plain": [
              "['Jack', 'Jennifer', 'John']"
            ]
          },
          "metadata": {
            "tags": []
          },
          "execution_count": 25
        }
      ]
    },
    {
      "cell_type": "code",
      "metadata": {
        "id": "PkJRF3e8xSIw"
      },
      "source": [
        ""
      ],
      "execution_count": null,
      "outputs": []
    }
  ]
}