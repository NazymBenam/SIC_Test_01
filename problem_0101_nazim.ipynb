{
  "nbformat": 4,
  "nbformat_minor": 0,
  "metadata": {
    "kernelspec": {
      "display_name": "Python 3",
      "language": "python",
      "name": "python3"
    },
    "language_info": {
      "codemirror_mode": {
        "name": "ipython",
        "version": 3
      },
      "file_extension": ".py",
      "mimetype": "text/x-python",
      "name": "python",
      "nbconvert_exporter": "python",
      "pygments_lexer": "ipython3",
      "version": "3.7.3"
    },
    "colab": {
      "name": "problem_0101_nazim.ipynb",
      "provenance": [],
      "collapsed_sections": []
    }
  },
  "cells": [
    {
      "cell_type": "markdown",
      "metadata": {
        "id": "_dwpriAMll4d"
      },
      "source": [
        "## Quiz #0101"
      ]
    },
    {
      "cell_type": "markdown",
      "metadata": {
        "id": "vEbond9hll4e"
      },
      "source": [
        "#### Provide the answers in Python code:"
      ]
    },
    {
      "cell_type": "markdown",
      "metadata": {
        "id": "_nkdGlzLll4e"
      },
      "source": [
        "1).  In the class A, students' heights are:\n",
        "\n",
        "161.5 <br>\n",
        "165.9 <br>\n",
        "168.7 <br>\n",
        "163.1 <br>\n",
        "170.8 <br>\n",
        "167.2 <br>\n",
        "\n",
        "Calculate the mean height by using Python 'list' and 'for' loop:"
      ]
    },
    {
      "cell_type": "code",
      "metadata": {
        "colab": {
          "base_uri": "https://localhost:8080/"
        },
        "id": "dZmfNxvfll4e",
        "outputId": "60fbd468-d8c9-4603-dedf-8e525aef614c"
      },
      "source": [
        "A = [161.5, 165.9, 168.7, 163.1 ,170.8 ,167.2]\n",
        "sum1 = 0\n",
        "\n",
        "for i in range(len(A)) :\n",
        "  sum1 += A[i]\n",
        "\n",
        "mean_1 = sum1 / len(A)\n",
        "print(mean_1)\n",
        "\n"
      ],
      "execution_count": null,
      "outputs": [
        {
          "output_type": "stream",
          "text": [
            "166.20000000000002\n"
          ],
          "name": "stdout"
        }
      ]
    },
    {
      "cell_type": "markdown",
      "metadata": {
        "id": "NmvV6ACLll4f"
      },
      "source": [
        "2).  In the class B, students' heights are:\n",
        "\n",
        "172.5 <br>\n",
        "162.9 <br>\n",
        "161.7 <br>\n",
        "160.1 <br>\n",
        "161.8 <br>\n",
        "169.2 <br>\n",
        "\n",
        "Calculate the mean height by using Python 'list' and 'for' loop:"
      ]
    },
    {
      "cell_type": "code",
      "metadata": {
        "colab": {
          "base_uri": "https://localhost:8080/"
        },
        "id": "gwRWsd_kll4f",
        "outputId": "5ce0d9f2-3269-40bc-e3db-fcf3f0fbdb02"
      },
      "source": [
        "B = [172.5, 162.9, 161.7, 160.1 ,161.8 ,169.2]\n",
        "sum2 = 0\n",
        "\n",
        "for i in range(len(B)) :\n",
        "  sum2 += B[i]\n",
        "\n",
        "mean_2 = sum2 / len(B)\n",
        "print(mean_2)\n"
      ],
      "execution_count": null,
      "outputs": [
        {
          "output_type": "stream",
          "text": [
            "164.70000000000002\n"
          ],
          "name": "stdout"
        }
      ]
    },
    {
      "cell_type": "markdown",
      "metadata": {
        "id": "NlE9N8gqll4f"
      },
      "source": [
        "3). The class A and the class B are joined together to form the class AB. Calculate the mean height by using Python 'list' and 'for' loop:"
      ]
    },
    {
      "cell_type": "code",
      "metadata": {
        "colab": {
          "base_uri": "https://localhost:8080/"
        },
        "id": "QcKz95_All4f",
        "outputId": "48329cdc-e78c-4e13-db0b-9aa5c997359e"
      },
      "source": [
        "AB = A + B\n",
        "summ = 0\n",
        "\n",
        "for i in range(len(AB)) :\n",
        "  summ += AB[i]\n",
        "\n",
        "mean_tot = summ / len(AB)\n",
        "print(mean_tot)"
      ],
      "execution_count": null,
      "outputs": [
        {
          "output_type": "stream",
          "text": [
            "165.45000000000002\n"
          ],
          "name": "stdout"
        }
      ]
    },
    {
      "cell_type": "markdown",
      "metadata": {
        "id": "pWnskXtall4f"
      },
      "source": [
        "4). Sort the heights of the class AB."
      ]
    },
    {
      "cell_type": "code",
      "metadata": {
        "colab": {
          "base_uri": "https://localhost:8080/"
        },
        "id": "EIdSXrOAll4f",
        "outputId": "c25499a2-cc7a-4842-d8b2-112a47c0898f"
      },
      "source": [
        "AB.sort()\n",
        "print(AB)"
      ],
      "execution_count": null,
      "outputs": [
        {
          "output_type": "stream",
          "text": [
            "[160.1, 161.5, 161.7, 161.8, 162.9, 163.1, 165.9, 167.2, 168.7, 169.2, 170.8, 172.5]\n"
          ],
          "name": "stdout"
        }
      ]
    },
    {
      "cell_type": "markdown",
      "metadata": {
        "id": "eWaZyAU8ll4g"
      },
      "source": [
        "5). The class C is formed with students with the height less than 165. Make a list 'C' containing the heights of the class C."
      ]
    },
    {
      "cell_type": "code",
      "metadata": {
        "colab": {
          "base_uri": "https://localhost:8080/"
        },
        "id": "H-cddWuqll4g",
        "outputId": "b23cbd84-b7d1-4ac1-dc5a-685fd97121e7"
      },
      "source": [
        "C = list(filter(lambda c : c<165 , AB))\n",
        "print(C)"
      ],
      "execution_count": null,
      "outputs": [
        {
          "output_type": "stream",
          "text": [
            "[160.1, 161.5, 161.7, 161.8, 162.9, 163.1]\n"
          ],
          "name": "stdout"
        }
      ]
    },
    {
      "cell_type": "markdown",
      "metadata": {
        "id": "L-u28fVhll4g"
      },
      "source": [
        "6). The class D is formed with students with the height larger than 160 and less than 170. Make a list containing the heights of the class D."
      ]
    },
    {
      "cell_type": "code",
      "metadata": {
        "colab": {
          "base_uri": "https://localhost:8080/"
        },
        "id": "tR2Cjt37ll4g",
        "outputId": "ddbb8cab-7c84-4ff7-e13b-ae414ab90f90"
      },
      "source": [
        "D = list(filter(lambda d : d>160 and d<170 , AB))\n",
        "print(D)"
      ],
      "execution_count": null,
      "outputs": [
        {
          "output_type": "stream",
          "text": [
            "[160.1, 161.5, 161.7, 161.8, 162.9, 163.1, 165.9, 167.2, 168.7, 169.2]\n"
          ],
          "name": "stdout"
        }
      ]
    }
  ]
}