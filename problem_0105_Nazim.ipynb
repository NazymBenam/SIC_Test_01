{
  "nbformat": 4,
  "nbformat_minor": 0,
  "metadata": {
    "kernelspec": {
      "display_name": "Python 3",
      "language": "python",
      "name": "python3"
    },
    "language_info": {
      "codemirror_mode": {
        "name": "ipython",
        "version": 3
      },
      "file_extension": ".py",
      "mimetype": "text/x-python",
      "name": "python",
      "nbconvert_exporter": "python",
      "pygments_lexer": "ipython3",
      "version": "3.7.3"
    },
    "colab": {
      "name": "problem_0105_Nazim.ipynb",
      "provenance": [],
      "collapsed_sections": []
    }
  },
  "cells": [
    {
      "cell_type": "markdown",
      "metadata": {
        "id": "EBhMHzeB52nO"
      },
      "source": [
        "## Quiz #0105 "
      ]
    },
    {
      "cell_type": "markdown",
      "metadata": {
        "id": "R1soBg_H52nQ"
      },
      "source": [
        "#### Assignment: \n",
        "- Write a function named 'palindrome' to test whether the entered word or sentence is a palindrome.<br>\n",
        "- Ignore capitalization, spaces, punctuation marks, symbols, etc. <br>\n",
        "- Use the properties of 'queue' and 'stack' data structures. <br>"
      ]
    },
    {
      "cell_type": "markdown",
      "metadata": {
        "id": "geBWBwiL52nR"
      },
      "source": [
        "Palindrome examples: <br>\n",
        "- mom\n",
        "- wow\n",
        "- noon\n",
        "- level\n",
        "- radar\n",
        "- kayak\n",
        "- racecar\n",
        "- God's dog\n",
        "- Madam, I'm Adam"
      ]
    },
    {
      "cell_type": "code",
      "metadata": {
        "colab": {
          "base_uri": "https://localhost:8080/"
        },
        "id": "0EP4T6TX52nR",
        "outputId": "06f8ca34-09b5-4d41-ead4-9beb2b26ab5d"
      },
      "source": [
        "import re\n",
        "\n",
        "def palindrome(d):\n",
        "  d = d.lower()\n",
        "  d = re.sub('[^a-zA-Z]+', '', d)\n",
        "  print(d)\n",
        "  check = 0\n",
        "\n",
        "  for i in range(len(d) -1) :\n",
        "    if d[i] == d[len(d)-1-i] :\n",
        "      pass\n",
        "    else :\n",
        "      check+=1\n",
        "  if check == 0 :\n",
        "    print(\"palindrome\")\n",
        "  else :\n",
        "    print(\"not a palindrome\")\n",
        "  \n",
        "\n",
        "\n",
        "palindrome(\"God's dog\")"
      ],
      "execution_count": 1,
      "outputs": [
        {
          "output_type": "stream",
          "name": "stdout",
          "text": [
            "godsdog\n",
            "palindrome\n"
          ]
        }
      ]
    },
    {
      "cell_type": "code",
      "metadata": {
        "colab": {
          "base_uri": "https://localhost:8080/"
        },
        "id": "i7MiOWqd7apv",
        "outputId": "f877929e-e3fc-4c7a-93f3-d2c4846937ee"
      },
      "source": [
        ""
      ],
      "execution_count": null,
      "outputs": [
        {
          "output_type": "stream",
          "text": [
            "Entrez une valeur: God's dog\n",
            "L'entrée n'est pas un palindrome\n"
          ],
          "name": "stdout"
        }
      ]
    },
    {
      "cell_type": "markdown",
      "metadata": {
        "id": "JL81-dZY52nS"
      },
      "source": [
        "Test results:"
      ]
    },
    {
      "cell_type": "code",
      "metadata": {
        "id": "j8SYIT2-52nS",
        "colab": {
          "base_uri": "https://localhost:8080/"
        },
        "outputId": "83675e7e-175b-459e-a17f-9469a327925b"
      },
      "source": [
        "palindrome(\"Kayak\")"
      ],
      "execution_count": 2,
      "outputs": [
        {
          "output_type": "stream",
          "name": "stdout",
          "text": [
            "kayak\n",
            "palindrome\n"
          ]
        }
      ]
    },
    {
      "cell_type": "code",
      "metadata": {
        "id": "v4kOyNkh52nT",
        "colab": {
          "base_uri": "https://localhost:8080/"
        },
        "outputId": "f249fa17-0d7e-4417-a9ea-f8dcab68ccf7"
      },
      "source": [
        "palindrome(\"Madam, I'm Adam\")"
      ],
      "execution_count": 3,
      "outputs": [
        {
          "output_type": "stream",
          "name": "stdout",
          "text": [
            "madamimadam\n",
            "palindrome\n"
          ]
        }
      ]
    },
    {
      "cell_type": "code",
      "metadata": {
        "id": "-zv_gv2K52nU",
        "colab": {
          "base_uri": "https://localhost:8080/"
        },
        "outputId": "3c0a0415-ef8c-4918-bb96-658128ba5f19"
      },
      "source": [
        "palindrome(\"Hello\")"
      ],
      "execution_count": 4,
      "outputs": [
        {
          "output_type": "stream",
          "name": "stdout",
          "text": [
            "hello\n",
            "not a palindrome\n"
          ]
        }
      ]
    },
    {
      "cell_type": "code",
      "metadata": {
        "id": "8DvQ3SEe52nU"
      },
      "source": [
        ""
      ],
      "execution_count": null,
      "outputs": []
    }
  ]
}